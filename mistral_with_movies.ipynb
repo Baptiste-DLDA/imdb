{
 "cells": [
  {
   "cell_type": "code",
   "execution_count": 1,
   "id": "379b603c",
   "metadata": {
    "_cell_guid": "b1076dfc-b9ad-4769-8c92-a6c4dae69d19",
    "_uuid": "8f2839f25d086af736a60e9eeb907d3b93b6e0e5",
    "execution": {
     "iopub.execute_input": "2025-04-29T22:17:06.571213Z",
     "iopub.status.busy": "2025-04-29T22:17:06.570886Z",
     "iopub.status.idle": "2025-04-29T22:17:12.392076Z",
     "shell.execute_reply": "2025-04-29T22:17:12.390737Z"
    },
    "papermill": {
     "duration": 5.827319,
     "end_time": "2025-04-29T22:17:12.394280",
     "exception": false,
     "start_time": "2025-04-29T22:17:06.566961",
     "status": "completed"
    },
    "tags": []
   },
   "outputs": [
    {
     "name": "stdout",
     "output_type": "stream",
     "text": [
      "Collecting mistralai\r\n",
      "  Downloading mistralai-1.7.0-py3-none-any.whl.metadata (30 kB)\r\n",
      "Collecting eval-type-backport>=0.2.0 (from mistralai)\r\n",
      "  Downloading eval_type_backport-0.2.2-py3-none-any.whl.metadata (2.2 kB)\r\n",
      "Requirement already satisfied: httpx>=0.28.1 in /usr/local/lib/python3.11/dist-packages (from mistralai) (0.28.1)\r\n",
      "Requirement already satisfied: pydantic>=2.10.3 in /usr/local/lib/python3.11/dist-packages (from mistralai) (2.11.3)\r\n",
      "Requirement already satisfied: python-dateutil>=2.8.2 in /usr/local/lib/python3.11/dist-packages (from mistralai) (2.9.0.post0)\r\n",
      "Requirement already satisfied: typing-inspection>=0.4.0 in /usr/local/lib/python3.11/dist-packages (from mistralai) (0.4.0)\r\n",
      "Requirement already satisfied: anyio in /usr/local/lib/python3.11/dist-packages (from httpx>=0.28.1->mistralai) (3.7.1)\r\n",
      "Requirement already satisfied: certifi in /usr/local/lib/python3.11/dist-packages (from httpx>=0.28.1->mistralai) (2025.1.31)\r\n",
      "Requirement already satisfied: httpcore==1.* in /usr/local/lib/python3.11/dist-packages (from httpx>=0.28.1->mistralai) (1.0.7)\r\n",
      "Requirement already satisfied: idna in /usr/local/lib/python3.11/dist-packages (from httpx>=0.28.1->mistralai) (3.10)\r\n",
      "Requirement already satisfied: h11<0.15,>=0.13 in /usr/local/lib/python3.11/dist-packages (from httpcore==1.*->httpx>=0.28.1->mistralai) (0.14.0)\r\n",
      "Requirement already satisfied: annotated-types>=0.6.0 in /usr/local/lib/python3.11/dist-packages (from pydantic>=2.10.3->mistralai) (0.7.0)\r\n",
      "Requirement already satisfied: pydantic-core==2.33.1 in /usr/local/lib/python3.11/dist-packages (from pydantic>=2.10.3->mistralai) (2.33.1)\r\n",
      "Requirement already satisfied: typing-extensions>=4.12.2 in /usr/local/lib/python3.11/dist-packages (from pydantic>=2.10.3->mistralai) (4.13.1)\r\n",
      "Requirement already satisfied: six>=1.5 in /usr/local/lib/python3.11/dist-packages (from python-dateutil>=2.8.2->mistralai) (1.17.0)\r\n",
      "Requirement already satisfied: sniffio>=1.1 in /usr/local/lib/python3.11/dist-packages (from anyio->httpx>=0.28.1->mistralai) (1.3.1)\r\n",
      "Downloading mistralai-1.7.0-py3-none-any.whl (301 kB)\r\n",
      "\u001b[2K   \u001b[90m━━━━━━━━━━━━━━━━━━━━━━━━━━━━━━━━━━━━━━━━\u001b[0m \u001b[32m301.5/301.5 kB\u001b[0m \u001b[31m9.6 MB/s\u001b[0m eta \u001b[36m0:00:00\u001b[0m\r\n",
      "\u001b[?25hDownloading eval_type_backport-0.2.2-py3-none-any.whl (5.8 kB)\r\n",
      "Installing collected packages: eval-type-backport, mistralai\r\n",
      "Successfully installed eval-type-backport-0.2.2 mistralai-1.7.0\r\n"
     ]
    }
   ],
   "source": [
    "!pip install mistralai"
   ]
  },
  {
   "cell_type": "code",
   "execution_count": 2,
   "id": "3756c057",
   "metadata": {
    "execution": {
     "iopub.execute_input": "2025-04-29T22:17:12.402949Z",
     "iopub.status.busy": "2025-04-29T22:17:12.402514Z",
     "iopub.status.idle": "2025-04-29T22:17:13.908149Z",
     "shell.execute_reply": "2025-04-29T22:17:13.906579Z"
    },
    "papermill": {
     "duration": 1.512345,
     "end_time": "2025-04-29T22:17:13.910097",
     "exception": false,
     "start_time": "2025-04-29T22:17:12.397752",
     "status": "completed"
    },
    "tags": []
   },
   "outputs": [],
   "source": [
    "from mistralai import Mistral\n",
    "import time\n",
    "api_key = \"use your own\"\n",
    "model_mistral = \"mistral-large-latest\"\n",
    "\n",
    "client = Mistral(api_key=api_key)"
   ]
  },
  {
   "cell_type": "code",
   "execution_count": 3,
   "id": "01c1800d",
   "metadata": {
    "execution": {
     "iopub.execute_input": "2025-04-29T22:17:13.917595Z",
     "iopub.status.busy": "2025-04-29T22:17:13.917126Z",
     "iopub.status.idle": "2025-04-29T22:17:13.923959Z",
     "shell.execute_reply": "2025-04-29T22:17:13.922806Z"
    },
    "papermill": {
     "duration": 0.012622,
     "end_time": "2025-04-29T22:17:13.925595",
     "exception": false,
     "start_time": "2025-04-29T22:17:13.912973",
     "status": "completed"
    },
    "tags": []
   },
   "outputs": [],
   "source": [
    "opinions = [\n",
    "    (\"Suicide Squad\",\"The sexual tension between me and the theater exit door watching this.\"),\n",
    "    (\"Lion\",\"Google maps please show me the way into Dev Patel's arms\"),\n",
    "    (\"La La Land\",\"Watched this on the flight to LA and it put me such in a good mood im gonna dance down the I-405 and i dont care if some dude in a lamborghini going 500mph fucking annihilates me\"),\n",
    "    (\"Arrival\",\"Memory is a strange thing. For example, i remember amy adams' performance as being one of the best of 2016, but the academy seemed to remember differently.\"),\n",
    "    (\"The Menu\",\"never thought i would leave a film being surprised that cannibalism wasn't involved\"),\n",
    "    (\"Anatomy of a Fall\",\"Well I just saw the greatest acting performance of my life and it was not by Sandra Hüller or a child actor with the cuntiest bangs I’ve ever seen — it was by a dog so—\"),\n",
    "    (\"Barbie\",\"Dropping the kids off at Oppenheimer so the adults could watch Barbie\"),\n",
    "    (\"Bottoms\",\"I’m in it with my friends so\"),\n",
    "    (\"Pearl\",\"the director yelled “cut!” but mia goth heard “cunt!” and just went with it\"),\n",
    "    (\"The Batman\",\"I just love how fucking disgusting Bruce looks in this. Nasty ass stringy ass translucently pale goth boy in his dank disgusting batcave hunched over his computer with bloodshot eyes and black eye paint scrolling through footage of the previous night and journaling his fucked up thoughts. When he finally emerges from the cave to talk to Alfred and gets disturbed by the natural sunlight and has to put on sunglasses I wanted to get up and cheer. Yeah that’s right put on those sunglasses you little freak. Also he’s definitely a virgin based on how he composes himself around Catwoman. Fucking fantastic movie\"),\n",
    "    (\"La La Land\",\"this cured my depression and brought it back full force in the span of 2 hours\"),\n",
    "    (\"Anora\",\"Sean Baker does for sex workers what Martin Scorsese did for Gangsters\"),\n",
    "    (\"Barbie\",\"s(he's) bro(ken)\"),\n",
    "    (\"Emila Perez\",\"Impressive! A musical with zero (0) good songs! If Selena Gomez gets nominated for an Oscar for this performance I am keying the Academy's cars\"),\n",
    "    (\"Snow White\",\"gal gadot's acting israelly bad\"),\n",
    "    (\"The Minecraft Movie\",\"i gotta get a real job man\"),\n",
    "    (\"Poor Things\",\"I saw someone refer to this as a 'female version of Frankenstein' which is funny because Frankenstein was written by a (brilliant) woman and this was quite obviously written by a man.\")\n",
    "]\n",
    "\n",
    "true = [0,1,1,1,1,1,1,1,1,1,1,1,1,0,0,0,0]"
   ]
  },
  {
   "cell_type": "code",
   "execution_count": 4,
   "id": "2702f1d4",
   "metadata": {
    "execution": {
     "iopub.execute_input": "2025-04-29T22:17:13.932339Z",
     "iopub.status.busy": "2025-04-29T22:17:13.932006Z",
     "iopub.status.idle": "2025-04-29T22:18:13.085806Z",
     "shell.execute_reply": "2025-04-29T22:18:13.084747Z"
    },
    "papermill": {
     "duration": 59.159475,
     "end_time": "2025-04-29T22:18:13.087821",
     "exception": false,
     "start_time": "2025-04-29T22:17:13.928346",
     "status": "completed"
    },
    "tags": []
   },
   "outputs": [
    {
     "name": "stdout",
     "output_type": "stream",
     "text": [
      "Test sans nom des films\n",
      "Review: The sexual tension between me and the theater exit door watching this.\n",
      "Evaluation: 0\n",
      "\n",
      "Review: Google maps please show me the way into Dev Patel's arms\n",
      "Evaluation: 1\n",
      "\n",
      "Review: Watched this on the flight to LA and it put me such in a good mood im gonna dance down the I-405 and i dont care if some dude in a lamborghini going 500mph fucking annihilates me\n",
      "Evaluation: 1\n",
      "\n",
      "Review: Memory is a strange thing. For example, i remember amy adams' performance as being one of the best of 2016, but the academy seemed to remember differently.\n",
      "Evaluation: 1\n",
      "\n",
      "Review: never thought i would leave a film being surprised that cannibalism wasn't involved\n",
      "Evaluation: 1\n",
      "\n",
      "Review: Well I just saw the greatest acting performance of my life and it was not by Sandra Hüller or a child actor with the cuntiest bangs I’ve ever seen — it was by a dog so—\n",
      "Evaluation: 1\n",
      "\n",
      "Review: Dropping the kids off at Oppenheimer so the adults could watch Barbie\n",
      "Evaluation: 1\n",
      "\n",
      "Review: I’m in it with my friends so\n",
      "Evaluation: 1\n",
      "\n",
      "Review: the director yelled “cut!” but mia goth heard “cunt!” and just went with it\n",
      "Evaluation: 0\n",
      "\n",
      "Review: I just love how fucking disgusting Bruce looks in this. Nasty ass stringy ass translucently pale goth boy in his dank disgusting batcave hunched over his computer with bloodshot eyes and black eye paint scrolling through footage of the previous night and journaling his fucked up thoughts. When he finally emerges from the cave to talk to Alfred and gets disturbed by the natural sunlight and has to put on sunglasses I wanted to get up and cheer. Yeah that’s right put on those sunglasses you little freak. Also he’s definitely a virgin based on how he composes himself around Catwoman. Fucking fantastic movie\n",
      "Evaluation: 1\n",
      "\n",
      "Review: this cured my depression and brought it back full force in the span of 2 hours\n",
      "Evaluation: 0\n",
      "\n",
      "Review: Sean Baker does for sex workers what Martin Scorsese did for Gangsters\n",
      "Evaluation: 1\n",
      "\n",
      "Review: s(he's) bro(ken)\n",
      "Evaluation: 0\n",
      "\n",
      "Review: Impressive! A musical with zero (0) good songs! If Selena Gomez gets nominated for an Oscar for this performance I am keying the Academy's cars\n",
      "Evaluation: 0\n",
      "\n",
      "Review: gal gadot's acting israelly bad\n",
      "Evaluation: 0\n",
      "\n",
      "Review: i gotta get a real job man\n",
      "Evaluation: 0\n",
      "\n",
      "Review: I saw someone refer to this as a 'female version of Frankenstein' which is funny because Frankenstein was written by a (brilliant) woman and this was quite obviously written by a man.\n",
      "Evaluation: 0\n",
      "\n"
     ]
    }
   ],
   "source": [
    "pred_mistral=[]\n",
    "print(\"Test sans nom des films\")\n",
    "for film,opinion in opinions:\n",
    "    chat_response = client.chat.complete(\n",
    "        model=model_mistral,\n",
    "        messages=[\n",
    "            {\n",
    "                \"role\": \"user\",\n",
    "                \"content\": f\"Evaluate this movie review : '{opinion}'. Respond with 0 if the review is negative, 1 if it is positive. Respond only with 0 or 1, nothing else\",\n",
    "            },\n",
    "        ]\n",
    "    )\n",
    "\n",
    "    print(f\"Review: {opinion}\")\n",
    "    print(f\"Evaluation: {chat_response.choices[0].message.content}\\n\")\n",
    "    pred_mistral.append(int(chat_response.choices[0].message.content))\n",
    "    time.sleep(3)"
   ]
  },
  {
   "cell_type": "code",
   "execution_count": 5,
   "id": "92030a98",
   "metadata": {
    "execution": {
     "iopub.execute_input": "2025-04-29T22:18:13.096659Z",
     "iopub.status.busy": "2025-04-29T22:18:13.096254Z",
     "iopub.status.idle": "2025-04-29T22:18:14.985862Z",
     "shell.execute_reply": "2025-04-29T22:18:14.984660Z"
    },
    "papermill": {
     "duration": 1.895724,
     "end_time": "2025-04-29T22:18:14.987359",
     "exception": false,
     "start_time": "2025-04-29T22:18:13.091635",
     "status": "completed"
    },
    "tags": []
   },
   "outputs": [
    {
     "name": "stdout",
     "output_type": "stream",
     "text": [
      "Accuracy: 0.82\n"
     ]
    }
   ],
   "source": [
    "from sklearn.metrics import accuracy_score\n",
    "\n",
    "accuracy = accuracy_score(true, pred_mistral)\n",
    "\n",
    "print(f\"Accuracy: {accuracy:.2f}\")"
   ]
  },
  {
   "cell_type": "code",
   "execution_count": 6,
   "id": "92a40af8",
   "metadata": {
    "execution": {
     "iopub.execute_input": "2025-04-29T22:18:14.997735Z",
     "iopub.status.busy": "2025-04-29T22:18:14.997167Z",
     "iopub.status.idle": "2025-04-29T22:19:12.264206Z",
     "shell.execute_reply": "2025-04-29T22:19:12.262882Z"
    },
    "papermill": {
     "duration": 57.27417,
     "end_time": "2025-04-29T22:19:12.266632",
     "exception": false,
     "start_time": "2025-04-29T22:18:14.992462",
     "status": "completed"
    },
    "tags": []
   },
   "outputs": [
    {
     "name": "stdout",
     "output_type": "stream",
     "text": [
      "Test avec nom des films\n",
      "Film : Suicide Squad, Review: The sexual tension between me and the theater exit door watching this.\n",
      "Evaluation: 0\n",
      "\n",
      "Film : Lion, Review: Google maps please show me the way into Dev Patel's arms\n",
      "Evaluation: 1\n",
      "\n",
      "Film : La La Land, Review: Watched this on the flight to LA and it put me such in a good mood im gonna dance down the I-405 and i dont care if some dude in a lamborghini going 500mph fucking annihilates me\n",
      "Evaluation: 1\n",
      "\n",
      "Film : Arrival, Review: Memory is a strange thing. For example, i remember amy adams' performance as being one of the best of 2016, but the academy seemed to remember differently.\n",
      "Evaluation: 1\n",
      "\n",
      "Film : The Menu, Review: never thought i would leave a film being surprised that cannibalism wasn't involved\n",
      "Evaluation: 1\n",
      "\n",
      "Film : Anatomy of a Fall, Review: Well I just saw the greatest acting performance of my life and it was not by Sandra Hüller or a child actor with the cuntiest bangs I’ve ever seen — it was by a dog so—\n",
      "Evaluation: 1\n",
      "\n",
      "Film : Barbie, Review: Dropping the kids off at Oppenheimer so the adults could watch Barbie\n",
      "Evaluation: 1\n",
      "\n",
      "Film : Bottoms, Review: I’m in it with my friends so\n",
      "Evaluation: 1\n",
      "\n",
      "Film : Pearl, Review: the director yelled “cut!” but mia goth heard “cunt!” and just went with it\n",
      "Evaluation: 0\n",
      "\n",
      "Film : The Batman, Review: I just love how fucking disgusting Bruce looks in this. Nasty ass stringy ass translucently pale goth boy in his dank disgusting batcave hunched over his computer with bloodshot eyes and black eye paint scrolling through footage of the previous night and journaling his fucked up thoughts. When he finally emerges from the cave to talk to Alfred and gets disturbed by the natural sunlight and has to put on sunglasses I wanted to get up and cheer. Yeah that’s right put on those sunglasses you little freak. Also he’s definitely a virgin based on how he composes himself around Catwoman. Fucking fantastic movie\n",
      "Evaluation: 1\n",
      "\n",
      "Film : La La Land, Review: this cured my depression and brought it back full force in the span of 2 hours\n",
      "Evaluation: 1\n",
      "\n",
      "Film : Anora, Review: Sean Baker does for sex workers what Martin Scorsese did for Gangsters\n",
      "Evaluation: 1\n",
      "\n",
      "Film : Barbie, Review: s(he's) bro(ken)\n",
      "Evaluation: 0\n",
      "\n",
      "Film : Emila Perez, Review: Impressive! A musical with zero (0) good songs! If Selena Gomez gets nominated for an Oscar for this performance I am keying the Academy's cars\n",
      "Evaluation: 0\n",
      "\n",
      "Film : Snow White, Review: gal gadot's acting israelly bad\n",
      "Evaluation: 0\n",
      "\n",
      "Film : The Minecraft Movie, Review: i gotta get a real job man\n",
      "Evaluation: 0\n",
      "\n",
      "Film : Poor Things, Review: I saw someone refer to this as a 'female version of Frankenstein' which is funny because Frankenstein was written by a (brilliant) woman and this was quite obviously written by a man.\n",
      "Evaluation: 0\n",
      "\n"
     ]
    }
   ],
   "source": [
    "pred_mistral=[]\n",
    "print(\"Test avec nom des films\")\n",
    "for film,opinion in opinions:\n",
    "    chat_response = client.chat.complete(\n",
    "        model=model_mistral,\n",
    "        messages=[\n",
    "            {\n",
    "                \"role\": \"user\",\n",
    "                \"content\": f\"I am going to give you a review from the movie: '{film}'. Use your knowledge about this movie and its references on the internet to evaluate the following review : '{opinion}'. Respond with 0 if the review is negative, 1 if it is positive. Respond only with 0 or 1, nothing else\",\n",
    "            },\n",
    "        ]\n",
    "    )\n",
    "\n",
    "    print(f\"Film : {film}, Review: {opinion}\")\n",
    "    print(f\"Evaluation: {chat_response.choices[0].message.content}\\n\")\n",
    "    pred_mistral.append(int(chat_response.choices[0].message.content))\n",
    "    time.sleep(3)"
   ]
  },
  {
   "cell_type": "code",
   "execution_count": 7,
   "id": "801b2fce",
   "metadata": {
    "execution": {
     "iopub.execute_input": "2025-04-29T22:19:12.278525Z",
     "iopub.status.busy": "2025-04-29T22:19:12.278181Z",
     "iopub.status.idle": "2025-04-29T22:19:12.286062Z",
     "shell.execute_reply": "2025-04-29T22:19:12.284697Z"
    },
    "papermill": {
     "duration": 0.015626,
     "end_time": "2025-04-29T22:19:12.287911",
     "exception": false,
     "start_time": "2025-04-29T22:19:12.272285",
     "status": "completed"
    },
    "tags": []
   },
   "outputs": [
    {
     "name": "stdout",
     "output_type": "stream",
     "text": [
      "Accuracy: 0.88\n"
     ]
    }
   ],
   "source": [
    "from sklearn.metrics import accuracy_score\n",
    "\n",
    "accuracy = accuracy_score(true, pred_mistral)\n",
    "\n",
    "print(f\"Accuracy: {accuracy:.2f}\")"
   ]
  }
 ],
 "metadata": {
  "kaggle": {
   "accelerator": "none",
   "dataSources": [],
   "dockerImageVersionId": 31012,
   "isGpuEnabled": false,
   "isInternetEnabled": true,
   "language": "python",
   "sourceType": "notebook"
  },
  "kernelspec": {
   "display_name": "Python 3 (ipykernel)",
   "language": "python",
   "name": "python3"
  },
  "language_info": {
   "codemirror_mode": {
    "name": "ipython",
    "version": 3
   },
   "file_extension": ".py",
   "mimetype": "text/x-python",
   "name": "python",
   "nbconvert_exporter": "python",
   "pygments_lexer": "ipython3",
   "version": "3.12.7"
  },
  "papermill": {
   "default_parameters": {},
   "duration": 131.431992,
   "end_time": "2025-04-29T22:19:13.016459",
   "environment_variables": {},
   "exception": null,
   "input_path": "__notebook__.ipynb",
   "output_path": "__notebook__.ipynb",
   "parameters": {},
   "start_time": "2025-04-29T22:17:01.584467",
   "version": "2.6.0"
  }
 },
 "nbformat": 4,
 "nbformat_minor": 5
}
