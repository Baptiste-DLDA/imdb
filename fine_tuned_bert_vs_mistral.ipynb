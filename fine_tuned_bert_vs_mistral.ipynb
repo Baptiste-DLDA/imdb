{
 "cells": [
  {
   "cell_type": "code",
   "execution_count": 1,
   "id": "45571c66",
   "metadata": {
    "_cell_guid": "b1076dfc-b9ad-4769-8c92-a6c4dae69d19",
    "_uuid": "8f2839f25d086af736a60e9eeb907d3b93b6e0e5",
    "execution": {
     "iopub.execute_input": "2025-04-16T20:21:40.778632Z",
     "iopub.status.busy": "2025-04-16T20:21:40.778431Z",
     "iopub.status.idle": "2025-04-16T20:21:46.349603Z",
     "shell.execute_reply": "2025-04-16T20:21:46.348667Z"
    },
    "papermill": {
     "duration": 5.577035,
     "end_time": "2025-04-16T20:21:46.351085",
     "exception": false,
     "start_time": "2025-04-16T20:21:40.774050",
     "status": "completed"
    },
    "tags": []
   },
   "outputs": [
    {
     "name": "stdout",
     "output_type": "stream",
     "text": [
      "Collecting mistralai\r\n",
      "  Downloading mistralai-1.7.0-py3-none-any.whl.metadata (30 kB)\r\n",
      "Collecting eval-type-backport>=0.2.0 (from mistralai)\r\n",
      "  Downloading eval_type_backport-0.2.2-py3-none-any.whl.metadata (2.2 kB)\r\n",
      "Requirement already satisfied: httpx>=0.28.1 in /usr/local/lib/python3.11/dist-packages (from mistralai) (0.28.1)\r\n",
      "Requirement already satisfied: pydantic>=2.10.3 in /usr/local/lib/python3.11/dist-packages (from mistralai) (2.11.3)\r\n",
      "Requirement already satisfied: python-dateutil>=2.8.2 in /usr/local/lib/python3.11/dist-packages (from mistralai) (2.9.0.post0)\r\n",
      "Requirement already satisfied: typing-inspection>=0.4.0 in /usr/local/lib/python3.11/dist-packages (from mistralai) (0.4.0)\r\n",
      "Requirement already satisfied: anyio in /usr/local/lib/python3.11/dist-packages (from httpx>=0.28.1->mistralai) (3.7.1)\r\n",
      "Requirement already satisfied: certifi in /usr/local/lib/python3.11/dist-packages (from httpx>=0.28.1->mistralai) (2025.1.31)\r\n",
      "Requirement already satisfied: httpcore==1.* in /usr/local/lib/python3.11/dist-packages (from httpx>=0.28.1->mistralai) (1.0.7)\r\n",
      "Requirement already satisfied: idna in /usr/local/lib/python3.11/dist-packages (from httpx>=0.28.1->mistralai) (3.10)\r\n",
      "Requirement already satisfied: h11<0.15,>=0.13 in /usr/local/lib/python3.11/dist-packages (from httpcore==1.*->httpx>=0.28.1->mistralai) (0.14.0)\r\n",
      "Requirement already satisfied: annotated-types>=0.6.0 in /usr/local/lib/python3.11/dist-packages (from pydantic>=2.10.3->mistralai) (0.7.0)\r\n",
      "Requirement already satisfied: pydantic-core==2.33.1 in /usr/local/lib/python3.11/dist-packages (from pydantic>=2.10.3->mistralai) (2.33.1)\r\n",
      "Requirement already satisfied: typing-extensions>=4.12.2 in /usr/local/lib/python3.11/dist-packages (from pydantic>=2.10.3->mistralai) (4.13.1)\r\n",
      "Requirement already satisfied: six>=1.5 in /usr/local/lib/python3.11/dist-packages (from python-dateutil>=2.8.2->mistralai) (1.17.0)\r\n",
      "Requirement already satisfied: sniffio>=1.1 in /usr/local/lib/python3.11/dist-packages (from anyio->httpx>=0.28.1->mistralai) (1.3.1)\r\n",
      "Downloading mistralai-1.7.0-py3-none-any.whl (301 kB)\r\n",
      "\u001b[2K   \u001b[90m━━━━━━━━━━━━━━━━━━━━━━━━━━━━━━━━━━━━━━━━\u001b[0m \u001b[32m301.5/301.5 kB\u001b[0m \u001b[31m2.1 MB/s\u001b[0m eta \u001b[36m0:00:00\u001b[0m\r\n",
      "\u001b[?25hDownloading eval_type_backport-0.2.2-py3-none-any.whl (5.8 kB)\r\n",
      "Installing collected packages: eval-type-backport, mistralai\r\n",
      "Successfully installed eval-type-backport-0.2.2 mistralai-1.7.0\r\n"
     ]
    }
   ],
   "source": [
    "!pip install mistralai"
   ]
  },
  {
   "cell_type": "markdown",
   "id": "0d96bf7b",
   "metadata": {
    "papermill": {
     "duration": 0.003533,
     "end_time": "2025-04-16T20:21:46.358690",
     "exception": false,
     "start_time": "2025-04-16T20:21:46.355157",
     "status": "completed"
    },
    "tags": []
   },
   "source": [
    "# TEST API"
   ]
  },
  {
   "cell_type": "code",
   "execution_count": 2,
   "id": "6c625b8e",
   "metadata": {
    "execution": {
     "iopub.execute_input": "2025-04-16T20:21:46.366995Z",
     "iopub.status.busy": "2025-04-16T20:21:46.366364Z",
     "iopub.status.idle": "2025-04-16T20:21:58.802154Z",
     "shell.execute_reply": "2025-04-16T20:21:58.801237Z"
    },
    "papermill": {
     "duration": 12.44124,
     "end_time": "2025-04-16T20:21:58.803373",
     "exception": false,
     "start_time": "2025-04-16T20:21:46.362133",
     "status": "completed"
    },
    "tags": []
   },
   "outputs": [
    {
     "name": "stdout",
     "output_type": "stream",
     "text": [
      "Choosing the \"best\" French cheese can be quite subjective, as it depends on personal taste. France is renowned for its wide variety of cheeses, with over 400 different types. Here are a few highly regarded ones:\n",
      "\n",
      "1. **Camembert de Normandie**: A soft, creamy, and surface-ripened cow's milk cheese from the Normandy region. It's one of the most famous French cheeses worldwide.\n",
      "\n",
      "2. **Brie de Meaux**: Often referred to as the \"King of Cheeses,\" this soft cheese is produced in the Seine-et-Marne department. It has a smooth, pale interior and a white, bloomy rind.\n",
      "\n",
      "3. **Roquefort**: A sheep milk blue cheese from the south of France. It has a distinctive tangy and salty flavor and is often crumbled in salads or served with sweet accompaniments.\n",
      "\n",
      "4. **Comté**: A hard, unpasteurized cow's milk cheese from the Franche-Comté region. It has a strong, slightly sweet flavor and is often used in fondue.\n",
      "\n",
      "5. **Reblochon**: A soft washed-rind and smear-ripened cheese from the Alps region. It's known for its use in the dish Tartiflette.\n",
      "\n",
      "6. **Époisses**: A pungent, washed-rind cheese from Burgundy. It's known for its strong aroma and rich, meaty flavor.\n",
      "\n",
      "Each of these cheeses offers a unique taste and texture, so the \"best\" one really depends on your personal preference.\n"
     ]
    }
   ],
   "source": [
    "from mistralai import Mistral\n",
    "\n",
    "api_key = \"Wk4GjfNLY2AGgx32tVlbk40GIjJAjQVe\"\n",
    "model_mistral = \"mistral-large-latest\"\n",
    "\n",
    "client = Mistral(api_key=api_key)\n",
    "\n",
    "chat_response = client.chat.complete(\n",
    "    model= model_mistral,\n",
    "    messages = [\n",
    "        {\n",
    "            \"role\": \"user\",\n",
    "            \"content\": \"What is the best French cheese?\",\n",
    "        },\n",
    "    ]\n",
    ")\n",
    "print(chat_response.choices[0].message.content)"
   ]
  },
  {
   "cell_type": "markdown",
   "id": "5ce2a9e2",
   "metadata": {
    "papermill": {
     "duration": 0.00328,
     "end_time": "2025-04-16T20:21:58.810409",
     "exception": false,
     "start_time": "2025-04-16T20:21:58.807129",
     "status": "completed"
    },
    "tags": []
   },
   "source": [
    "# PARTIE BERT"
   ]
  },
  {
   "cell_type": "code",
   "execution_count": 3,
   "id": "33e412e2",
   "metadata": {
    "execution": {
     "iopub.execute_input": "2025-04-16T20:21:58.817913Z",
     "iopub.status.busy": "2025-04-16T20:21:58.817662Z",
     "iopub.status.idle": "2025-04-16T20:21:58.853008Z",
     "shell.execute_reply": "2025-04-16T20:21:58.852303Z"
    },
    "papermill": {
     "duration": 0.040241,
     "end_time": "2025-04-16T20:21:58.853951",
     "exception": false,
     "start_time": "2025-04-16T20:21:58.813710",
     "status": "completed"
    },
    "tags": []
   },
   "outputs": [
    {
     "name": "stdout",
     "output_type": "stream",
     "text": [
      "\n",
      "📁 Dossier : /kaggle/input/tuto_bert\n",
      "\n",
      "📁 Dossier : /kaggle/input/tuto_bert/keras\n",
      "\n",
      "📁 Dossier : /kaggle/input/tuto_bert/keras/default\n",
      "\n",
      "📁 Dossier : /kaggle/input/tuto_bert/keras/default/1\n",
      "\n",
      "📁 Dossier : /kaggle/input/tuto_bert/keras/default/1/tuto_BERT\n",
      "  - fingerprint.pb\n",
      "  - saved_model.pb\n",
      "  - keras_metadata.pb\n",
      "\n",
      "📁 Dossier : /kaggle/input/tuto_bert/keras/default/1/tuto_BERT/variables\n",
      "  - variables.index\n",
      "  - variables.data-00000-of-00001\n"
     ]
    }
   ],
   "source": [
    "import os\n",
    "\n",
    "for root, dirs, files in os.walk(\"/kaggle/input/tuto_bert\"):\n",
    "    print(f\"\\n📁 Dossier : {root}\")\n",
    "    for file in files:\n",
    "        print(f\"  - {file}\")"
   ]
  },
  {
   "cell_type": "code",
   "execution_count": 4,
   "id": "9804d9b9",
   "metadata": {
    "execution": {
     "iopub.execute_input": "2025-04-16T20:21:58.861556Z",
     "iopub.status.busy": "2025-04-16T20:21:58.861338Z",
     "iopub.status.idle": "2025-04-16T20:22:50.341275Z",
     "shell.execute_reply": "2025-04-16T20:22:50.340694Z"
    },
    "papermill": {
     "duration": 51.485327,
     "end_time": "2025-04-16T20:22:50.342785",
     "exception": false,
     "start_time": "2025-04-16T20:21:58.857458",
     "status": "completed"
    },
    "tags": []
   },
   "outputs": [
    {
     "name": "stderr",
     "output_type": "stream",
     "text": [
      "2025-04-16 20:22:00.955626: E external/local_xla/xla/stream_executor/cuda/cuda_fft.cc:477] Unable to register cuFFT factory: Attempting to register factory for plugin cuFFT when one has already been registered\n",
      "WARNING: All log messages before absl::InitializeLog() is called are written to STDERR\n",
      "E0000 00:00:1744834921.273008      19 cuda_dnn.cc:8310] Unable to register cuDNN factory: Attempting to register factory for plugin cuDNN when one has already been registered\n",
      "E0000 00:00:1744834921.357244      19 cuda_blas.cc:1418] Unable to register cuBLAS factory: Attempting to register factory for plugin cuBLAS when one has already been registered\n",
      "I0000 00:00:1744834941.274408      19 gpu_device.cc:2022] Created device /job:localhost/replica:0/task:0/device:GPU:0 with 13942 MB memory:  -> device: 0, name: Tesla T4, pci bus id: 0000:00:04.0, compute capability: 7.5\n",
      "I0000 00:00:1744834941.275058      19 gpu_device.cc:2022] Created device /job:localhost/replica:0/task:0/device:GPU:1 with 13942 MB memory:  -> device: 1, name: Tesla T4, pci bus id: 0000:00:05.0, compute capability: 7.5\n"
     ]
    }
   ],
   "source": [
    "import tensorflow as tf\n",
    "\n",
    "model_path = \"/kaggle/input/tuto_bert/keras/default/1/tuto_BERT\"\n",
    "\n",
    "model_bert = tf.saved_model.load(model_path)"
   ]
  },
  {
   "cell_type": "code",
   "execution_count": 5,
   "id": "e905c287",
   "metadata": {
    "execution": {
     "iopub.execute_input": "2025-04-16T20:22:50.354767Z",
     "iopub.status.busy": "2025-04-16T20:22:50.354517Z",
     "iopub.status.idle": "2025-04-16T20:23:01.306127Z",
     "shell.execute_reply": "2025-04-16T20:23:01.305241Z"
    },
    "papermill": {
     "duration": 10.958886,
     "end_time": "2025-04-16T20:23:01.307333",
     "exception": false,
     "start_time": "2025-04-16T20:22:50.348447",
     "status": "completed"
    },
    "tags": []
   },
   "outputs": [
    {
     "data": {
      "application/vnd.jupyter.widget-view+json": {
       "model_id": "7295dc6a96dd4fdea90263d72b00bc93",
       "version_major": 2,
       "version_minor": 0
      },
      "text/plain": [
       "tokenizer_config.json:   0%|          | 0.00/48.0 [00:00<?, ?B/s]"
      ]
     },
     "metadata": {},
     "output_type": "display_data"
    },
    {
     "data": {
      "application/vnd.jupyter.widget-view+json": {
       "model_id": "3ad58898272c4d93ba05e0966b7a151a",
       "version_major": 2,
       "version_minor": 0
      },
      "text/plain": [
       "vocab.txt:   0%|          | 0.00/232k [00:00<?, ?B/s]"
      ]
     },
     "metadata": {},
     "output_type": "display_data"
    },
    {
     "data": {
      "application/vnd.jupyter.widget-view+json": {
       "model_id": "9c429b12d4d0498692c0ee8e72e31391",
       "version_major": 2,
       "version_minor": 0
      },
      "text/plain": [
       "tokenizer.json:   0%|          | 0.00/466k [00:00<?, ?B/s]"
      ]
     },
     "metadata": {},
     "output_type": "display_data"
    },
    {
     "data": {
      "application/vnd.jupyter.widget-view+json": {
       "model_id": "93f92b7f39904cb28089b21611ee1679",
       "version_major": 2,
       "version_minor": 0
      },
      "text/plain": [
       "config.json:   0%|          | 0.00/570 [00:00<?, ?B/s]"
      ]
     },
     "metadata": {},
     "output_type": "display_data"
    },
    {
     "name": "stdout",
     "output_type": "stream",
     "text": [
      "Classes prédites: [1 0]\n"
     ]
    }
   ],
   "source": [
    "from transformers import BertTokenizer\n",
    "import tensorflow as tf\n",
    "import numpy as np\n",
    "\n",
    "tokenizer = BertTokenizer.from_pretrained(\"bert-base-uncased\")\n",
    "\n",
    "texts = [\"This movie was awesome\", \"This movie was bad\"]\n",
    "\n",
    "inputs = tokenizer(\n",
    "    texts,\n",
    "    return_tensors=\"tf\",\n",
    "    padding=True,\n",
    "    truncation=True\n",
    ")\n",
    "\n",
    "output = model_bert(inputs)\n",
    "logits = output[\"logits\"]\n",
    "\n",
    "probas = tf.nn.softmax(logits, axis=-1)\n",
    "preds = tf.argmax(probas, axis=1)\n",
    "\n",
    "print(\"Classes prédites:\", preds.numpy())\n"
   ]
  },
  {
   "cell_type": "markdown",
   "id": "a7c9d2d2",
   "metadata": {
    "papermill": {
     "duration": 0.004261,
     "end_time": "2025-04-16T20:23:01.316668",
     "exception": false,
     "start_time": "2025-04-16T20:23:01.312407",
     "status": "completed"
    },
    "tags": []
   },
   "source": [
    "# COMPARAISON BASIQUE"
   ]
  },
  {
   "cell_type": "code",
   "execution_count": 6,
   "id": "b52d3ed1",
   "metadata": {
    "execution": {
     "iopub.execute_input": "2025-04-16T20:23:01.325937Z",
     "iopub.status.busy": "2025-04-16T20:23:01.325493Z",
     "iopub.status.idle": "2025-04-16T20:23:01.329786Z",
     "shell.execute_reply": "2025-04-16T20:23:01.328985Z"
    },
    "papermill": {
     "duration": 0.010198,
     "end_time": "2025-04-16T20:23:01.330915",
     "exception": false,
     "start_time": "2025-04-16T20:23:01.320717",
     "status": "completed"
    },
    "tags": []
   },
   "outputs": [],
   "source": [
    "opinions = [\n",
    "    \"The movie was boring and predictable.\",\n",
    "    \"I loved this movie, it was incredible!\",\n",
    "    \"The plot was confusing and the characters were underdeveloped.\",\n",
    "    \"A masterpiece of cinema, a must-watch.\",\n",
    "    \"Disappointing, I expected better.\"\n",
    "]\n",
    "\n",
    "true = [0,1,0,1,0]"
   ]
  },
  {
   "cell_type": "markdown",
   "id": "cd6265e3",
   "metadata": {
    "papermill": {
     "duration": 0.003885,
     "end_time": "2025-04-16T20:23:01.338999",
     "exception": false,
     "start_time": "2025-04-16T20:23:01.335114",
     "status": "completed"
    },
    "tags": []
   },
   "source": [
    "**Évaluation de l'API**"
   ]
  },
  {
   "cell_type": "code",
   "execution_count": 7,
   "id": "025c5675",
   "metadata": {
    "execution": {
     "iopub.execute_input": "2025-04-16T20:23:01.347875Z",
     "iopub.status.busy": "2025-04-16T20:23:01.347638Z",
     "iopub.status.idle": "2025-04-16T20:23:29.218473Z",
     "shell.execute_reply": "2025-04-16T20:23:29.217638Z"
    },
    "papermill": {
     "duration": 27.87687,
     "end_time": "2025-04-16T20:23:29.219945",
     "exception": false,
     "start_time": "2025-04-16T20:23:01.343075",
     "status": "completed"
    },
    "tags": []
   },
   "outputs": [
    {
     "name": "stdout",
     "output_type": "stream",
     "text": [
      "Review: The movie was boring and predictable.\n",
      "Evaluation: 0\n",
      "\n",
      "Review: I loved this movie, it was incredible!\n",
      "Evaluation: 1\n",
      "\n",
      "Review: The plot was confusing and the characters were underdeveloped.\n",
      "Evaluation: 0\n",
      "\n",
      "Review: A masterpiece of cinema, a must-watch.\n",
      "Evaluation: 1\n",
      "\n",
      "Review: Disappointing, I expected better.\n",
      "Evaluation: 0\n",
      "\n"
     ]
    }
   ],
   "source": [
    "import time\n",
    "pred_mistral=[]\n",
    "for opinion in opinions:\n",
    "    chat_response = client.chat.complete(\n",
    "        model=model_mistral,\n",
    "        messages=[\n",
    "            {\n",
    "                \"role\": \"user\",\n",
    "                \"content\": f\"Evaluate this movie review: '{opinion}' Respond with 0 if the review is negative, 1 if it is positive. Do not respond with anything else than 0 or 1\",\n",
    "            },\n",
    "        ]\n",
    "    )\n",
    "\n",
    "    print(f\"Review: {opinion}\")\n",
    "    print(f\"Evaluation: {chat_response.choices[0].message.content}\\n\")\n",
    "    pred_mistral.append(int(chat_response.choices[0].message.content))\n",
    "    time.sleep(3)"
   ]
  },
  {
   "cell_type": "code",
   "execution_count": 8,
   "id": "e06524af",
   "metadata": {
    "execution": {
     "iopub.execute_input": "2025-04-16T20:23:29.229723Z",
     "iopub.status.busy": "2025-04-16T20:23:29.229483Z",
     "iopub.status.idle": "2025-04-16T20:23:29.237452Z",
     "shell.execute_reply": "2025-04-16T20:23:29.236672Z"
    },
    "papermill": {
     "duration": 0.013975,
     "end_time": "2025-04-16T20:23:29.238563",
     "exception": false,
     "start_time": "2025-04-16T20:23:29.224588",
     "status": "completed"
    },
    "tags": []
   },
   "outputs": [
    {
     "name": "stdout",
     "output_type": "stream",
     "text": [
      "Accuracy: 1.00\n"
     ]
    }
   ],
   "source": [
    "from sklearn.metrics import accuracy_score\n",
    "\n",
    "accuracy = accuracy_score(true, pred_mistral)\n",
    "\n",
    "print(f\"Accuracy: {accuracy:.2f}\")"
   ]
  },
  {
   "cell_type": "markdown",
   "id": "f96d0feb",
   "metadata": {
    "papermill": {
     "duration": 0.004791,
     "end_time": "2025-04-16T20:23:29.248102",
     "exception": false,
     "start_time": "2025-04-16T20:23:29.243311",
     "status": "completed"
    },
    "tags": []
   },
   "source": [
    "**Évaluation de BERT**"
   ]
  },
  {
   "cell_type": "code",
   "execution_count": 9,
   "id": "718b8cef",
   "metadata": {
    "execution": {
     "iopub.execute_input": "2025-04-16T20:23:29.259330Z",
     "iopub.status.busy": "2025-04-16T20:23:29.259063Z",
     "iopub.status.idle": "2025-04-16T20:23:30.318142Z",
     "shell.execute_reply": "2025-04-16T20:23:30.317162Z"
    },
    "papermill": {
     "duration": 1.065962,
     "end_time": "2025-04-16T20:23:30.319590",
     "exception": false,
     "start_time": "2025-04-16T20:23:29.253628",
     "status": "completed"
    },
    "tags": []
   },
   "outputs": [
    {
     "name": "stdout",
     "output_type": "stream",
     "text": [
      "Classes prédites: [0 1 0 1 0]\n",
      "Accuracy: 1.00\n"
     ]
    }
   ],
   "source": [
    "inputs = tokenizer(\n",
    "    opinions,\n",
    "    return_tensors=\"tf\",\n",
    "    padding=True,\n",
    "    truncation=True\n",
    ")\n",
    "\n",
    "output = model_bert(inputs)\n",
    "logits = output[\"logits\"]\n",
    "\n",
    "probas = tf.nn.softmax(logits, axis=-1)\n",
    "pred_bert = tf.argmax(probas, axis=1)\n",
    "print(\"Classes prédites:\", pred_bert.numpy())\n",
    "\n",
    "accuracy = accuracy_score(true, pred_bert)\n",
    "\n",
    "print(f\"Accuracy: {accuracy:.2f}\")"
   ]
  },
  {
   "cell_type": "markdown",
   "id": "9eb5fbbc",
   "metadata": {
    "papermill": {
     "duration": 0.004293,
     "end_time": "2025-04-16T20:23:30.328960",
     "exception": false,
     "start_time": "2025-04-16T20:23:30.324667",
     "status": "completed"
    },
    "tags": []
   },
   "source": [
    "# COMPARAISON POUSSÉE"
   ]
  },
  {
   "cell_type": "code",
   "execution_count": 10,
   "id": "a9bc1b07",
   "metadata": {
    "execution": {
     "iopub.execute_input": "2025-04-16T20:23:30.338758Z",
     "iopub.status.busy": "2025-04-16T20:23:30.338465Z",
     "iopub.status.idle": "2025-04-16T20:23:30.343652Z",
     "shell.execute_reply": "2025-04-16T20:23:30.343025Z"
    },
    "papermill": {
     "duration": 0.011416,
     "end_time": "2025-04-16T20:23:30.344701",
     "exception": false,
     "start_time": "2025-04-16T20:23:30.333285",
     "status": "completed"
    },
    "tags": []
   },
   "outputs": [],
   "source": [
    "opinions = [\n",
    "    \"Best movie for idiots.\",\n",
    "    \"The sexual tension between me and the theater exit door watching this.\",\n",
    "    \"Google maps please show me the way into Dev Patel's arms\",\n",
    "    \"Watched this on the flight to LA and it put me such in a good mood im gonna dance down the I-405 and i dont care if some dude in a lamborghini going 500mph fucking annihilates me\",\n",
    "    \"Memory is a strange thing. For example, i remember amy adams' performance as being one of the best of 2016, but the academy seemed to remember differently.\",\n",
    "    \"never thought i would leave a film being surprised that cannibalism wasn't involved\",\n",
    "    \"Well I just saw the greatest acting performance of my life and it was not by Sandra Hüller or a child actor with the cuntiest bangs I’ve ever seen — it was by a dog so—\",\n",
    "    \"Dropping the kids off at Oppenheimer so the adults could watch Barbie\",\n",
    "    \"I’m in it with my friends so\",\n",
    "    \"the director yelled “cut!” but mia goth heard “cunt!” and just went with it\",\n",
    "    \"I just love how fucking disgusting Bruce looks in this. Nasty ass stringy ass translucently pale goth boy in his dank disgusting batcave hunched over his computer with bloodshot eyes and black eye paint scrolling through footage of the previous night and journaling his fucked up thoughts. When he finally emerges from the cave to talk to Alfred and gets disturbed by the natural sunlight and has to put on sunglasses I wanted to get up and cheer. Yeah that’s right put on those sunglasses you little freak. Also he’s definitely a virgin based on how he composes himself around Catwoman. Fucking fantastic movie\",\n",
    "    \"this cured my depression and brought it back full force in the span of 2 hours\",\n",
    "    \"Sean Baker does for sex workers what Martin Scorsese did for Gangsters\",\n",
    "    \"s(he's) bro(ken)\",\n",
    "    \"Impressive! A musical with zero (0) good songs! If Selena Gomez gets nominated for an Oscar for this performance I am keying the Academy's cars\",\n",
    "    \"gal gadot's acting israelly bad\",\n",
    "    \"i gotta get a real job man\",\n",
    "    \"I saw someone refer to this as a 'female version of Frankenstein' which is funny because Frankenstein was written by a (brilliant) woman and this was quite obviously written by a man.\"\n",
    "]\n",
    "\n",
    "true = [0,0,1,1,1,1,1,1,1,1,1,1,1,1,0,0,0,0]"
   ]
  },
  {
   "cell_type": "markdown",
   "id": "60fa57a4",
   "metadata": {
    "papermill": {
     "duration": 0.004156,
     "end_time": "2025-04-16T20:23:30.353156",
     "exception": false,
     "start_time": "2025-04-16T20:23:30.349000",
     "status": "completed"
    },
    "tags": []
   },
   "source": [
    "**Évaluation API**"
   ]
  },
  {
   "cell_type": "code",
   "execution_count": 11,
   "id": "9c21a329",
   "metadata": {
    "execution": {
     "iopub.execute_input": "2025-04-16T20:23:30.362656Z",
     "iopub.status.busy": "2025-04-16T20:23:30.362424Z",
     "iopub.status.idle": "2025-04-16T20:24:52.084013Z",
     "shell.execute_reply": "2025-04-16T20:24:52.083190Z"
    },
    "papermill": {
     "duration": 81.728203,
     "end_time": "2025-04-16T20:24:52.085582",
     "exception": false,
     "start_time": "2025-04-16T20:23:30.357379",
     "status": "completed"
    },
    "tags": []
   },
   "outputs": [
    {
     "name": "stdout",
     "output_type": "stream",
     "text": [
      "Review: Best movie for idiots.\n",
      "Evaluation: 0\n",
      "\n",
      "Review: The sexual tension between me and the theater exit door watching this.\n",
      "Evaluation: 0\n",
      "\n",
      "Review: Google maps please show me the way into Dev Patel's arms\n",
      "Evaluation: 1\n",
      "\n",
      "Review: Watched this on the flight to LA and it put me such in a good mood im gonna dance down the I-405 and i dont care if some dude in a lamborghini going 500mph fucking annihilates me\n",
      "Evaluation: 1\n",
      "\n",
      "Review: Memory is a strange thing. For example, i remember amy adams' performance as being one of the best of 2016, but the academy seemed to remember differently.\n",
      "Evaluation: 1\n",
      "\n",
      "Review: never thought i would leave a film being surprised that cannibalism wasn't involved\n",
      "Evaluation: 1\n",
      "\n",
      "Review: Well I just saw the greatest acting performance of my life and it was not by Sandra Hüller or a child actor with the cuntiest bangs I’ve ever seen — it was by a dog so—\n",
      "Evaluation: 1\n",
      "\n",
      "Review: Dropping the kids off at Oppenheimer so the adults could watch Barbie\n",
      "Evaluation: 1\n",
      "\n",
      "Review: I’m in it with my friends so\n",
      "Evaluation: 1\n",
      "\n",
      "Review: the director yelled “cut!” but mia goth heard “cunt!” and just went with it\n",
      "Evaluation: 0\n",
      "\n",
      "Review: I just love how fucking disgusting Bruce looks in this. Nasty ass stringy ass translucently pale goth boy in his dank disgusting batcave hunched over his computer with bloodshot eyes and black eye paint scrolling through footage of the previous night and journaling his fucked up thoughts. When he finally emerges from the cave to talk to Alfred and gets disturbed by the natural sunlight and has to put on sunglasses I wanted to get up and cheer. Yeah that’s right put on those sunglasses you little freak. Also he’s definitely a virgin based on how he composes himself around Catwoman. Fucking fantastic movie\n",
      "Evaluation: 1\n",
      "\n",
      "Review: this cured my depression and brought it back full force in the span of 2 hours\n",
      "Evaluation: 0\n",
      "\n",
      "Review: Sean Baker does for sex workers what Martin Scorsese did for Gangsters\n",
      "Evaluation: 1\n",
      "\n",
      "Review: s(he's) bro(ken)\n",
      "Evaluation: 0\n",
      "\n",
      "Review: Impressive! A musical with zero (0) good songs! If Selena Gomez gets nominated for an Oscar for this performance I am keying the Academy's cars\n",
      "Evaluation: 0\n",
      "\n",
      "Review: gal gadot's acting israelly bad\n",
      "Evaluation: 0\n",
      "\n",
      "Review: i gotta get a real job man\n",
      "Evaluation: 0\n",
      "\n",
      "Review: I saw someone refer to this as a 'female version of Frankenstein' which is funny because Frankenstein was written by a (brilliant) woman and this was quite obviously written by a man.\n",
      "Evaluation: 0\n",
      "\n"
     ]
    }
   ],
   "source": [
    "pred_mistral=[]\n",
    "for opinion in opinions:\n",
    "    chat_response = client.chat.complete(\n",
    "        model=model_mistral,\n",
    "        messages=[\n",
    "            {\n",
    "                \"role\": \"user\",\n",
    "                \"content\": f\"Evaluate this movie review: '{opinion}' Respond with 0 if the review is negative, 1 if it is positive. Do not respond with anything else than 0 or 1\",\n",
    "            },\n",
    "        ]\n",
    "    )\n",
    "\n",
    "    print(f\"Review: {opinion}\")\n",
    "    print(f\"Evaluation: {chat_response.choices[0].message.content}\\n\")\n",
    "    pred_mistral.append(int(chat_response.choices[0].message.content))\n",
    "    time.sleep(3)"
   ]
  },
  {
   "cell_type": "code",
   "execution_count": 12,
   "id": "31b6577f",
   "metadata": {
    "execution": {
     "iopub.execute_input": "2025-04-16T20:24:52.097429Z",
     "iopub.status.busy": "2025-04-16T20:24:52.097115Z",
     "iopub.status.idle": "2025-04-16T20:24:52.102754Z",
     "shell.execute_reply": "2025-04-16T20:24:52.102140Z"
    },
    "papermill": {
     "duration": 0.012567,
     "end_time": "2025-04-16T20:24:52.103755",
     "exception": false,
     "start_time": "2025-04-16T20:24:52.091188",
     "status": "completed"
    },
    "tags": []
   },
   "outputs": [
    {
     "name": "stdout",
     "output_type": "stream",
     "text": [
      "Accuracy: 0.83\n"
     ]
    }
   ],
   "source": [
    "accuracy = accuracy_score(true, pred_mistral)\n",
    "\n",
    "print(f\"Accuracy: {accuracy:.2f}\")"
   ]
  },
  {
   "cell_type": "markdown",
   "id": "812a56eb",
   "metadata": {
    "papermill": {
     "duration": 0.004993,
     "end_time": "2025-04-16T20:24:52.113653",
     "exception": false,
     "start_time": "2025-04-16T20:24:52.108660",
     "status": "completed"
    },
    "tags": []
   },
   "source": [
    "**Évaluation BERT**"
   ]
  },
  {
   "cell_type": "code",
   "execution_count": 13,
   "id": "4fb9a6b6",
   "metadata": {
    "execution": {
     "iopub.execute_input": "2025-04-16T20:24:52.124803Z",
     "iopub.status.busy": "2025-04-16T20:24:52.124581Z",
     "iopub.status.idle": "2025-04-16T20:24:53.280323Z",
     "shell.execute_reply": "2025-04-16T20:24:53.279501Z"
    },
    "papermill": {
     "duration": 1.162776,
     "end_time": "2025-04-16T20:24:53.281618",
     "exception": false,
     "start_time": "2025-04-16T20:24:52.118842",
     "status": "completed"
    },
    "tags": []
   },
   "outputs": [
    {
     "name": "stdout",
     "output_type": "stream",
     "text": [
      "Classes prédites: [1 1 1 1 1 0 1 0 1 0 0 1 1 0 1 0 0 0]\n",
      "Accuracy: 0.56\n"
     ]
    }
   ],
   "source": [
    "inputs = tokenizer(\n",
    "    opinions,\n",
    "    return_tensors=\"tf\",\n",
    "    padding=True,\n",
    "    truncation=True\n",
    ")\n",
    "\n",
    "output = model_bert(inputs)\n",
    "logits = output[\"logits\"]\n",
    "\n",
    "probas = tf.nn.softmax(logits, axis=-1)\n",
    "pred_bert = tf.argmax(probas, axis=1)\n",
    "print(\"Classes prédites:\", pred_bert.numpy())\n",
    "\n",
    "accuracy = accuracy_score(true, pred_bert)\n",
    "\n",
    "print(f\"Accuracy: {accuracy:.2f}\")"
   ]
  }
 ],
 "metadata": {
  "kaggle": {
   "accelerator": "nvidiaTeslaT4",
   "dataSources": [
    {
     "isSourceIdPinned": true,
     "modelId": 306444,
     "modelInstanceId": 285612,
     "sourceId": 341463,
     "sourceType": "modelInstanceVersion"
    }
   ],
   "dockerImageVersionId": 31011,
   "isGpuEnabled": true,
   "isInternetEnabled": true,
   "language": "python",
   "sourceType": "notebook"
  },
  "kernelspec": {
   "display_name": "Python 3 (ipykernel)",
   "language": "python",
   "name": "python3"
  },
  "language_info": {
   "codemirror_mode": {
    "name": "ipython",
    "version": 3
   },
   "file_extension": ".py",
   "mimetype": "text/x-python",
   "name": "python",
   "nbconvert_exporter": "python",
   "pygments_lexer": "ipython3",
   "version": "3.12.7"
  },
  "papermill": {
   "default_parameters": {},
   "duration": 200.528465,
   "end_time": "2025-04-16T20:24:56.662184",
   "environment_variables": {},
   "exception": null,
   "input_path": "__notebook__.ipynb",
   "output_path": "__notebook__.ipynb",
   "parameters": {},
   "start_time": "2025-04-16T20:21:36.133719",
   "version": "2.6.0"
  },
  "widgets": {
   "application/vnd.jupyter.widget-state+json": {
    "state": {
     "04089317c5b2436a907e9073aaedf1bf": {
      "model_module": "@jupyter-widgets/base",
      "model_module_version": "2.0.0",
      "model_name": "LayoutModel",
      "state": {
       "_model_module": "@jupyter-widgets/base",
       "_model_module_version": "2.0.0",
       "_model_name": "LayoutModel",
       "_view_count": null,
       "_view_module": "@jupyter-widgets/base",
       "_view_module_version": "2.0.0",
       "_view_name": "LayoutView",
       "align_content": null,
       "align_items": null,
       "align_self": null,
       "border_bottom": null,
       "border_left": null,
       "border_right": null,
       "border_top": null,
       "bottom": null,
       "display": null,
       "flex": null,
       "flex_flow": null,
       "grid_area": null,
       "grid_auto_columns": null,
       "grid_auto_flow": null,
       "grid_auto_rows": null,
       "grid_column": null,
       "grid_gap": null,
       "grid_row": null,
       "grid_template_areas": null,
       "grid_template_columns": null,
       "grid_template_rows": null,
       "height": null,
       "justify_content": null,
       "justify_items": null,
       "left": null,
       "margin": null,
       "max_height": null,
       "max_width": null,
       "min_height": null,
       "min_width": null,
       "object_fit": null,
       "object_position": null,
       "order": null,
       "overflow": null,
       "padding": null,
       "right": null,
       "top": null,
       "visibility": null,
       "width": null
      }
     },
     "0564651f3f524856a17761437303ea8b": {
      "model_module": "@jupyter-widgets/controls",
      "model_module_version": "2.0.0",
      "model_name": "ProgressStyleModel",
      "state": {
       "_model_module": "@jupyter-widgets/controls",
       "_model_module_version": "2.0.0",
       "_model_name": "ProgressStyleModel",
       "_view_count": null,
       "_view_module": "@jupyter-widgets/base",
       "_view_module_version": "2.0.0",
       "_view_name": "StyleView",
       "bar_color": null,
       "description_width": ""
      }
     },
     "05fe181d6a72459b96d07a8433f18c6c": {
      "model_module": "@jupyter-widgets/base",
      "model_module_version": "2.0.0",
      "model_name": "LayoutModel",
      "state": {
       "_model_module": "@jupyter-widgets/base",
       "_model_module_version": "2.0.0",
       "_model_name": "LayoutModel",
       "_view_count": null,
       "_view_module": "@jupyter-widgets/base",
       "_view_module_version": "2.0.0",
       "_view_name": "LayoutView",
       "align_content": null,
       "align_items": null,
       "align_self": null,
       "border_bottom": null,
       "border_left": null,
       "border_right": null,
       "border_top": null,
       "bottom": null,
       "display": null,
       "flex": null,
       "flex_flow": null,
       "grid_area": null,
       "grid_auto_columns": null,
       "grid_auto_flow": null,
       "grid_auto_rows": null,
       "grid_column": null,
       "grid_gap": null,
       "grid_row": null,
       "grid_template_areas": null,
       "grid_template_columns": null,
       "grid_template_rows": null,
       "height": null,
       "justify_content": null,
       "justify_items": null,
       "left": null,
       "margin": null,
       "max_height": null,
       "max_width": null,
       "min_height": null,
       "min_width": null,
       "object_fit": null,
       "object_position": null,
       "order": null,
       "overflow": null,
       "padding": null,
       "right": null,
       "top": null,
       "visibility": null,
       "width": null
      }
     },
     "0929fe19e1ef4a50a57d288c368d14b7": {
      "model_module": "@jupyter-widgets/controls",
      "model_module_version": "2.0.0",
      "model_name": "HTMLStyleModel",
      "state": {
       "_model_module": "@jupyter-widgets/controls",
       "_model_module_version": "2.0.0",
       "_model_name": "HTMLStyleModel",
       "_view_count": null,
       "_view_module": "@jupyter-widgets/base",
       "_view_module_version": "2.0.0",
       "_view_name": "StyleView",
       "background": null,
       "description_width": "",
       "font_size": null,
       "text_color": null
      }
     },
     "0dae7bc5eb934d468fd4f4f0998b634a": {
      "model_module": "@jupyter-widgets/base",
      "model_module_version": "2.0.0",
      "model_name": "LayoutModel",
      "state": {
       "_model_module": "@jupyter-widgets/base",
       "_model_module_version": "2.0.0",
       "_model_name": "LayoutModel",
       "_view_count": null,
       "_view_module": "@jupyter-widgets/base",
       "_view_module_version": "2.0.0",
       "_view_name": "LayoutView",
       "align_content": null,
       "align_items": null,
       "align_self": null,
       "border_bottom": null,
       "border_left": null,
       "border_right": null,
       "border_top": null,
       "bottom": null,
       "display": null,
       "flex": null,
       "flex_flow": null,
       "grid_area": null,
       "grid_auto_columns": null,
       "grid_auto_flow": null,
       "grid_auto_rows": null,
       "grid_column": null,
       "grid_gap": null,
       "grid_row": null,
       "grid_template_areas": null,
       "grid_template_columns": null,
       "grid_template_rows": null,
       "height": null,
       "justify_content": null,
       "justify_items": null,
       "left": null,
       "margin": null,
       "max_height": null,
       "max_width": null,
       "min_height": null,
       "min_width": null,
       "object_fit": null,
       "object_position": null,
       "order": null,
       "overflow": null,
       "padding": null,
       "right": null,
       "top": null,
       "visibility": null,
       "width": null
      }
     },
     "0e732c016f2e47928aab7e4d345b5c23": {
      "model_module": "@jupyter-widgets/controls",
      "model_module_version": "2.0.0",
      "model_name": "HTMLModel",
      "state": {
       "_dom_classes": [],
       "_model_module": "@jupyter-widgets/controls",
       "_model_module_version": "2.0.0",
       "_model_name": "HTMLModel",
       "_view_count": null,
       "_view_module": "@jupyter-widgets/controls",
       "_view_module_version": "2.0.0",
       "_view_name": "HTMLView",
       "description": "",
       "description_allow_html": false,
       "layout": "IPY_MODEL_e21524f6142e490996ea49142fc4ec34",
       "placeholder": "​",
       "style": "IPY_MODEL_0929fe19e1ef4a50a57d288c368d14b7",
       "tabbable": null,
       "tooltip": null,
       "value": "vocab.txt: 100%"
      }
     },
     "163a43afcb4b4c6689945528c2ed492d": {
      "model_module": "@jupyter-widgets/base",
      "model_module_version": "2.0.0",
      "model_name": "LayoutModel",
      "state": {
       "_model_module": "@jupyter-widgets/base",
       "_model_module_version": "2.0.0",
       "_model_name": "LayoutModel",
       "_view_count": null,
       "_view_module": "@jupyter-widgets/base",
       "_view_module_version": "2.0.0",
       "_view_name": "LayoutView",
       "align_content": null,
       "align_items": null,
       "align_self": null,
       "border_bottom": null,
       "border_left": null,
       "border_right": null,
       "border_top": null,
       "bottom": null,
       "display": null,
       "flex": null,
       "flex_flow": null,
       "grid_area": null,
       "grid_auto_columns": null,
       "grid_auto_flow": null,
       "grid_auto_rows": null,
       "grid_column": null,
       "grid_gap": null,
       "grid_row": null,
       "grid_template_areas": null,
       "grid_template_columns": null,
       "grid_template_rows": null,
       "height": null,
       "justify_content": null,
       "justify_items": null,
       "left": null,
       "margin": null,
       "max_height": null,
       "max_width": null,
       "min_height": null,
       "min_width": null,
       "object_fit": null,
       "object_position": null,
       "order": null,
       "overflow": null,
       "padding": null,
       "right": null,
       "top": null,
       "visibility": null,
       "width": null
      }
     },
     "1af5682ac6db49e3b393d83473a1dbe8": {
      "model_module": "@jupyter-widgets/controls",
      "model_module_version": "2.0.0",
      "model_name": "HTMLModel",
      "state": {
       "_dom_classes": [],
       "_model_module": "@jupyter-widgets/controls",
       "_model_module_version": "2.0.0",
       "_model_name": "HTMLModel",
       "_view_count": null,
       "_view_module": "@jupyter-widgets/controls",
       "_view_module_version": "2.0.0",
       "_view_name": "HTMLView",
       "description": "",
       "description_allow_html": false,
       "layout": "IPY_MODEL_0dae7bc5eb934d468fd4f4f0998b634a",
       "placeholder": "​",
       "style": "IPY_MODEL_d365594a90294c71b889a80bef0e918d",
       "tabbable": null,
       "tooltip": null,
       "value": "tokenizer.json: 100%"
      }
     },
     "25b0066931df4454b7c7ca9855a2aca8": {
      "model_module": "@jupyter-widgets/base",
      "model_module_version": "2.0.0",
      "model_name": "LayoutModel",
      "state": {
       "_model_module": "@jupyter-widgets/base",
       "_model_module_version": "2.0.0",
       "_model_name": "LayoutModel",
       "_view_count": null,
       "_view_module": "@jupyter-widgets/base",
       "_view_module_version": "2.0.0",
       "_view_name": "LayoutView",
       "align_content": null,
       "align_items": null,
       "align_self": null,
       "border_bottom": null,
       "border_left": null,
       "border_right": null,
       "border_top": null,
       "bottom": null,
       "display": null,
       "flex": null,
       "flex_flow": null,
       "grid_area": null,
       "grid_auto_columns": null,
       "grid_auto_flow": null,
       "grid_auto_rows": null,
       "grid_column": null,
       "grid_gap": null,
       "grid_row": null,
       "grid_template_areas": null,
       "grid_template_columns": null,
       "grid_template_rows": null,
       "height": null,
       "justify_content": null,
       "justify_items": null,
       "left": null,
       "margin": null,
       "max_height": null,
       "max_width": null,
       "min_height": null,
       "min_width": null,
       "object_fit": null,
       "object_position": null,
       "order": null,
       "overflow": null,
       "padding": null,
       "right": null,
       "top": null,
       "visibility": null,
       "width": null
      }
     },
     "2896c588646c4676b83793a639addbdd": {
      "model_module": "@jupyter-widgets/controls",
      "model_module_version": "2.0.0",
      "model_name": "FloatProgressModel",
      "state": {
       "_dom_classes": [],
       "_model_module": "@jupyter-widgets/controls",
       "_model_module_version": "2.0.0",
       "_model_name": "FloatProgressModel",
       "_view_count": null,
       "_view_module": "@jupyter-widgets/controls",
       "_view_module_version": "2.0.0",
       "_view_name": "ProgressView",
       "bar_style": "success",
       "description": "",
       "description_allow_html": false,
       "layout": "IPY_MODEL_163a43afcb4b4c6689945528c2ed492d",
       "max": 570,
       "min": 0,
       "orientation": "horizontal",
       "style": "IPY_MODEL_0564651f3f524856a17761437303ea8b",
       "tabbable": null,
       "tooltip": null,
       "value": 570
      }
     },
     "2acb0a1f858b4986a2287d4a3bd74ed3": {
      "model_module": "@jupyter-widgets/controls",
      "model_module_version": "2.0.0",
      "model_name": "HTMLModel",
      "state": {
       "_dom_classes": [],
       "_model_module": "@jupyter-widgets/controls",
       "_model_module_version": "2.0.0",
       "_model_name": "HTMLModel",
       "_view_count": null,
       "_view_module": "@jupyter-widgets/controls",
       "_view_module_version": "2.0.0",
       "_view_name": "HTMLView",
       "description": "",
       "description_allow_html": false,
       "layout": "IPY_MODEL_04089317c5b2436a907e9073aaedf1bf",
       "placeholder": "​",
       "style": "IPY_MODEL_7ded3f534b014fd6b57e64f85e622fc0",
       "tabbable": null,
       "tooltip": null,
       "value": "tokenizer_config.json: 100%"
      }
     },
     "3ad58898272c4d93ba05e0966b7a151a": {
      "model_module": "@jupyter-widgets/controls",
      "model_module_version": "2.0.0",
      "model_name": "HBoxModel",
      "state": {
       "_dom_classes": [],
       "_model_module": "@jupyter-widgets/controls",
       "_model_module_version": "2.0.0",
       "_model_name": "HBoxModel",
       "_view_count": null,
       "_view_module": "@jupyter-widgets/controls",
       "_view_module_version": "2.0.0",
       "_view_name": "HBoxView",
       "box_style": "",
       "children": [
        "IPY_MODEL_0e732c016f2e47928aab7e4d345b5c23",
        "IPY_MODEL_a95974d548c94971bbd14756ed2081d8",
        "IPY_MODEL_e1e1d22418e643e7afdad6f912ce3257"
       ],
       "layout": "IPY_MODEL_05fe181d6a72459b96d07a8433f18c6c",
       "tabbable": null,
       "tooltip": null
      }
     },
     "3ed5f146fbff44e691a6a7224c3635ef": {
      "model_module": "@jupyter-widgets/controls",
      "model_module_version": "2.0.0",
      "model_name": "HTMLModel",
      "state": {
       "_dom_classes": [],
       "_model_module": "@jupyter-widgets/controls",
       "_model_module_version": "2.0.0",
       "_model_name": "HTMLModel",
       "_view_count": null,
       "_view_module": "@jupyter-widgets/controls",
       "_view_module_version": "2.0.0",
       "_view_name": "HTMLView",
       "description": "",
       "description_allow_html": false,
       "layout": "IPY_MODEL_f7a23340c24943249bb5d9b6a38a2bc3",
       "placeholder": "​",
       "style": "IPY_MODEL_4ae6235aee6f4699abda1755be607626",
       "tabbable": null,
       "tooltip": null,
       "value": "config.json: 100%"
      }
     },
     "4816cc45ec684a8caf5437e411ccc49d": {
      "model_module": "@jupyter-widgets/controls",
      "model_module_version": "2.0.0",
      "model_name": "HTMLModel",
      "state": {
       "_dom_classes": [],
       "_model_module": "@jupyter-widgets/controls",
       "_model_module_version": "2.0.0",
       "_model_name": "HTMLModel",
       "_view_count": null,
       "_view_module": "@jupyter-widgets/controls",
       "_view_module_version": "2.0.0",
       "_view_name": "HTMLView",
       "description": "",
       "description_allow_html": false,
       "layout": "IPY_MODEL_6c7243b5c5b44b2f91524ac42842822a",
       "placeholder": "​",
       "style": "IPY_MODEL_f312eba85402417ba9d3031a449dafba",
       "tabbable": null,
       "tooltip": null,
       "value": " 48.0/48.0 [00:00&lt;00:00, 5.51kB/s]"
      }
     },
     "486b723001f349d58791d4e47ab390f3": {
      "model_module": "@jupyter-widgets/controls",
      "model_module_version": "2.0.0",
      "model_name": "ProgressStyleModel",
      "state": {
       "_model_module": "@jupyter-widgets/controls",
       "_model_module_version": "2.0.0",
       "_model_name": "ProgressStyleModel",
       "_view_count": null,
       "_view_module": "@jupyter-widgets/base",
       "_view_module_version": "2.0.0",
       "_view_name": "StyleView",
       "bar_color": null,
       "description_width": ""
      }
     },
     "4ae6235aee6f4699abda1755be607626": {
      "model_module": "@jupyter-widgets/controls",
      "model_module_version": "2.0.0",
      "model_name": "HTMLStyleModel",
      "state": {
       "_model_module": "@jupyter-widgets/controls",
       "_model_module_version": "2.0.0",
       "_model_name": "HTMLStyleModel",
       "_view_count": null,
       "_view_module": "@jupyter-widgets/base",
       "_view_module_version": "2.0.0",
       "_view_name": "StyleView",
       "background": null,
       "description_width": "",
       "font_size": null,
       "text_color": null
      }
     },
     "6c7243b5c5b44b2f91524ac42842822a": {
      "model_module": "@jupyter-widgets/base",
      "model_module_version": "2.0.0",
      "model_name": "LayoutModel",
      "state": {
       "_model_module": "@jupyter-widgets/base",
       "_model_module_version": "2.0.0",
       "_model_name": "LayoutModel",
       "_view_count": null,
       "_view_module": "@jupyter-widgets/base",
       "_view_module_version": "2.0.0",
       "_view_name": "LayoutView",
       "align_content": null,
       "align_items": null,
       "align_self": null,
       "border_bottom": null,
       "border_left": null,
       "border_right": null,
       "border_top": null,
       "bottom": null,
       "display": null,
       "flex": null,
       "flex_flow": null,
       "grid_area": null,
       "grid_auto_columns": null,
       "grid_auto_flow": null,
       "grid_auto_rows": null,
       "grid_column": null,
       "grid_gap": null,
       "grid_row": null,
       "grid_template_areas": null,
       "grid_template_columns": null,
       "grid_template_rows": null,
       "height": null,
       "justify_content": null,
       "justify_items": null,
       "left": null,
       "margin": null,
       "max_height": null,
       "max_width": null,
       "min_height": null,
       "min_width": null,
       "object_fit": null,
       "object_position": null,
       "order": null,
       "overflow": null,
       "padding": null,
       "right": null,
       "top": null,
       "visibility": null,
       "width": null
      }
     },
     "700b2e04837946a79a8dde3cd2eeebc4": {
      "model_module": "@jupyter-widgets/controls",
      "model_module_version": "2.0.0",
      "model_name": "HTMLStyleModel",
      "state": {
       "_model_module": "@jupyter-widgets/controls",
       "_model_module_version": "2.0.0",
       "_model_name": "HTMLStyleModel",
       "_view_count": null,
       "_view_module": "@jupyter-widgets/base",
       "_view_module_version": "2.0.0",
       "_view_name": "StyleView",
       "background": null,
       "description_width": "",
       "font_size": null,
       "text_color": null
      }
     },
     "70fe44a29afc4922a66a722a605ed50f": {
      "model_module": "@jupyter-widgets/base",
      "model_module_version": "2.0.0",
      "model_name": "LayoutModel",
      "state": {
       "_model_module": "@jupyter-widgets/base",
       "_model_module_version": "2.0.0",
       "_model_name": "LayoutModel",
       "_view_count": null,
       "_view_module": "@jupyter-widgets/base",
       "_view_module_version": "2.0.0",
       "_view_name": "LayoutView",
       "align_content": null,
       "align_items": null,
       "align_self": null,
       "border_bottom": null,
       "border_left": null,
       "border_right": null,
       "border_top": null,
       "bottom": null,
       "display": null,
       "flex": null,
       "flex_flow": null,
       "grid_area": null,
       "grid_auto_columns": null,
       "grid_auto_flow": null,
       "grid_auto_rows": null,
       "grid_column": null,
       "grid_gap": null,
       "grid_row": null,
       "grid_template_areas": null,
       "grid_template_columns": null,
       "grid_template_rows": null,
       "height": null,
       "justify_content": null,
       "justify_items": null,
       "left": null,
       "margin": null,
       "max_height": null,
       "max_width": null,
       "min_height": null,
       "min_width": null,
       "object_fit": null,
       "object_position": null,
       "order": null,
       "overflow": null,
       "padding": null,
       "right": null,
       "top": null,
       "visibility": null,
       "width": null
      }
     },
     "7295dc6a96dd4fdea90263d72b00bc93": {
      "model_module": "@jupyter-widgets/controls",
      "model_module_version": "2.0.0",
      "model_name": "HBoxModel",
      "state": {
       "_dom_classes": [],
       "_model_module": "@jupyter-widgets/controls",
       "_model_module_version": "2.0.0",
       "_model_name": "HBoxModel",
       "_view_count": null,
       "_view_module": "@jupyter-widgets/controls",
       "_view_module_version": "2.0.0",
       "_view_name": "HBoxView",
       "box_style": "",
       "children": [
        "IPY_MODEL_2acb0a1f858b4986a2287d4a3bd74ed3",
        "IPY_MODEL_fef4618ab51a47b5b59d6320a6f9aaf3",
        "IPY_MODEL_4816cc45ec684a8caf5437e411ccc49d"
       ],
       "layout": "IPY_MODEL_be3dedab22b74388b535c05e2fae33cc",
       "tabbable": null,
       "tooltip": null
      }
     },
     "75665a4ce10947448c2bede5130dd969": {
      "model_module": "@jupyter-widgets/controls",
      "model_module_version": "2.0.0",
      "model_name": "HTMLModel",
      "state": {
       "_dom_classes": [],
       "_model_module": "@jupyter-widgets/controls",
       "_model_module_version": "2.0.0",
       "_model_name": "HTMLModel",
       "_view_count": null,
       "_view_module": "@jupyter-widgets/controls",
       "_view_module_version": "2.0.0",
       "_view_name": "HTMLView",
       "description": "",
       "description_allow_html": false,
       "layout": "IPY_MODEL_f04ab72776044192a249af1fb1e7ef89",
       "placeholder": "​",
       "style": "IPY_MODEL_fee02d203b7345a5a244939cb41fa77b",
       "tabbable": null,
       "tooltip": null,
       "value": " 570/570 [00:00&lt;00:00, 81.1kB/s]"
      }
     },
     "7666d047195c4f3e99828cbdceb7c826": {
      "model_module": "@jupyter-widgets/controls",
      "model_module_version": "2.0.0",
      "model_name": "HTMLStyleModel",
      "state": {
       "_model_module": "@jupyter-widgets/controls",
       "_model_module_version": "2.0.0",
       "_model_name": "HTMLStyleModel",
       "_view_count": null,
       "_view_module": "@jupyter-widgets/base",
       "_view_module_version": "2.0.0",
       "_view_name": "StyleView",
       "background": null,
       "description_width": "",
       "font_size": null,
       "text_color": null
      }
     },
     "7710c63912ad4b7e96094a8ba3592e42": {
      "model_module": "@jupyter-widgets/controls",
      "model_module_version": "2.0.0",
      "model_name": "FloatProgressModel",
      "state": {
       "_dom_classes": [],
       "_model_module": "@jupyter-widgets/controls",
       "_model_module_version": "2.0.0",
       "_model_name": "FloatProgressModel",
       "_view_count": null,
       "_view_module": "@jupyter-widgets/controls",
       "_view_module_version": "2.0.0",
       "_view_name": "ProgressView",
       "bar_style": "success",
       "description": "",
       "description_allow_html": false,
       "layout": "IPY_MODEL_caa2b17d5e704bb695c087684e41f2e8",
       "max": 466062,
       "min": 0,
       "orientation": "horizontal",
       "style": "IPY_MODEL_c41dd9b132414799ba4b6cb25ceb4551",
       "tabbable": null,
       "tooltip": null,
       "value": 466062
      }
     },
     "7ded3f534b014fd6b57e64f85e622fc0": {
      "model_module": "@jupyter-widgets/controls",
      "model_module_version": "2.0.0",
      "model_name": "HTMLStyleModel",
      "state": {
       "_model_module": "@jupyter-widgets/controls",
       "_model_module_version": "2.0.0",
       "_model_name": "HTMLStyleModel",
       "_view_count": null,
       "_view_module": "@jupyter-widgets/base",
       "_view_module_version": "2.0.0",
       "_view_name": "StyleView",
       "background": null,
       "description_width": "",
       "font_size": null,
       "text_color": null
      }
     },
     "7ea4929d45d34345b31cb353a4c2da98": {
      "model_module": "@jupyter-widgets/base",
      "model_module_version": "2.0.0",
      "model_name": "LayoutModel",
      "state": {
       "_model_module": "@jupyter-widgets/base",
       "_model_module_version": "2.0.0",
       "_model_name": "LayoutModel",
       "_view_count": null,
       "_view_module": "@jupyter-widgets/base",
       "_view_module_version": "2.0.0",
       "_view_name": "LayoutView",
       "align_content": null,
       "align_items": null,
       "align_self": null,
       "border_bottom": null,
       "border_left": null,
       "border_right": null,
       "border_top": null,
       "bottom": null,
       "display": null,
       "flex": null,
       "flex_flow": null,
       "grid_area": null,
       "grid_auto_columns": null,
       "grid_auto_flow": null,
       "grid_auto_rows": null,
       "grid_column": null,
       "grid_gap": null,
       "grid_row": null,
       "grid_template_areas": null,
       "grid_template_columns": null,
       "grid_template_rows": null,
       "height": null,
       "justify_content": null,
       "justify_items": null,
       "left": null,
       "margin": null,
       "max_height": null,
       "max_width": null,
       "min_height": null,
       "min_width": null,
       "object_fit": null,
       "object_position": null,
       "order": null,
       "overflow": null,
       "padding": null,
       "right": null,
       "top": null,
       "visibility": null,
       "width": null
      }
     },
     "93f92b7f39904cb28089b21611ee1679": {
      "model_module": "@jupyter-widgets/controls",
      "model_module_version": "2.0.0",
      "model_name": "HBoxModel",
      "state": {
       "_dom_classes": [],
       "_model_module": "@jupyter-widgets/controls",
       "_model_module_version": "2.0.0",
       "_model_name": "HBoxModel",
       "_view_count": null,
       "_view_module": "@jupyter-widgets/controls",
       "_view_module_version": "2.0.0",
       "_view_name": "HBoxView",
       "box_style": "",
       "children": [
        "IPY_MODEL_3ed5f146fbff44e691a6a7224c3635ef",
        "IPY_MODEL_2896c588646c4676b83793a639addbdd",
        "IPY_MODEL_75665a4ce10947448c2bede5130dd969"
       ],
       "layout": "IPY_MODEL_25b0066931df4454b7c7ca9855a2aca8",
       "tabbable": null,
       "tooltip": null
      }
     },
     "943b0a494e5d4227bde82405f908257a": {
      "model_module": "@jupyter-widgets/controls",
      "model_module_version": "2.0.0",
      "model_name": "ProgressStyleModel",
      "state": {
       "_model_module": "@jupyter-widgets/controls",
       "_model_module_version": "2.0.0",
       "_model_name": "ProgressStyleModel",
       "_view_count": null,
       "_view_module": "@jupyter-widgets/base",
       "_view_module_version": "2.0.0",
       "_view_name": "StyleView",
       "bar_color": null,
       "description_width": ""
      }
     },
     "9c429b12d4d0498692c0ee8e72e31391": {
      "model_module": "@jupyter-widgets/controls",
      "model_module_version": "2.0.0",
      "model_name": "HBoxModel",
      "state": {
       "_dom_classes": [],
       "_model_module": "@jupyter-widgets/controls",
       "_model_module_version": "2.0.0",
       "_model_name": "HBoxModel",
       "_view_count": null,
       "_view_module": "@jupyter-widgets/controls",
       "_view_module_version": "2.0.0",
       "_view_name": "HBoxView",
       "box_style": "",
       "children": [
        "IPY_MODEL_1af5682ac6db49e3b393d83473a1dbe8",
        "IPY_MODEL_7710c63912ad4b7e96094a8ba3592e42",
        "IPY_MODEL_e6a5741c82be4a97bbd8bad79ceb1482"
       ],
       "layout": "IPY_MODEL_fe187cabedf344449fd15b0608bd2f5e",
       "tabbable": null,
       "tooltip": null
      }
     },
     "9fe85b5cd2e041e2bc67fef8ee3eba1f": {
      "model_module": "@jupyter-widgets/base",
      "model_module_version": "2.0.0",
      "model_name": "LayoutModel",
      "state": {
       "_model_module": "@jupyter-widgets/base",
       "_model_module_version": "2.0.0",
       "_model_name": "LayoutModel",
       "_view_count": null,
       "_view_module": "@jupyter-widgets/base",
       "_view_module_version": "2.0.0",
       "_view_name": "LayoutView",
       "align_content": null,
       "align_items": null,
       "align_self": null,
       "border_bottom": null,
       "border_left": null,
       "border_right": null,
       "border_top": null,
       "bottom": null,
       "display": null,
       "flex": null,
       "flex_flow": null,
       "grid_area": null,
       "grid_auto_columns": null,
       "grid_auto_flow": null,
       "grid_auto_rows": null,
       "grid_column": null,
       "grid_gap": null,
       "grid_row": null,
       "grid_template_areas": null,
       "grid_template_columns": null,
       "grid_template_rows": null,
       "height": null,
       "justify_content": null,
       "justify_items": null,
       "left": null,
       "margin": null,
       "max_height": null,
       "max_width": null,
       "min_height": null,
       "min_width": null,
       "object_fit": null,
       "object_position": null,
       "order": null,
       "overflow": null,
       "padding": null,
       "right": null,
       "top": null,
       "visibility": null,
       "width": null
      }
     },
     "a95974d548c94971bbd14756ed2081d8": {
      "model_module": "@jupyter-widgets/controls",
      "model_module_version": "2.0.0",
      "model_name": "FloatProgressModel",
      "state": {
       "_dom_classes": [],
       "_model_module": "@jupyter-widgets/controls",
       "_model_module_version": "2.0.0",
       "_model_name": "FloatProgressModel",
       "_view_count": null,
       "_view_module": "@jupyter-widgets/controls",
       "_view_module_version": "2.0.0",
       "_view_name": "ProgressView",
       "bar_style": "success",
       "description": "",
       "description_allow_html": false,
       "layout": "IPY_MODEL_9fe85b5cd2e041e2bc67fef8ee3eba1f",
       "max": 231508,
       "min": 0,
       "orientation": "horizontal",
       "style": "IPY_MODEL_943b0a494e5d4227bde82405f908257a",
       "tabbable": null,
       "tooltip": null,
       "value": 231508
      }
     },
     "b0581de373194df68e1e5582cfd18797": {
      "model_module": "@jupyter-widgets/base",
      "model_module_version": "2.0.0",
      "model_name": "LayoutModel",
      "state": {
       "_model_module": "@jupyter-widgets/base",
       "_model_module_version": "2.0.0",
       "_model_name": "LayoutModel",
       "_view_count": null,
       "_view_module": "@jupyter-widgets/base",
       "_view_module_version": "2.0.0",
       "_view_name": "LayoutView",
       "align_content": null,
       "align_items": null,
       "align_self": null,
       "border_bottom": null,
       "border_left": null,
       "border_right": null,
       "border_top": null,
       "bottom": null,
       "display": null,
       "flex": null,
       "flex_flow": null,
       "grid_area": null,
       "grid_auto_columns": null,
       "grid_auto_flow": null,
       "grid_auto_rows": null,
       "grid_column": null,
       "grid_gap": null,
       "grid_row": null,
       "grid_template_areas": null,
       "grid_template_columns": null,
       "grid_template_rows": null,
       "height": null,
       "justify_content": null,
       "justify_items": null,
       "left": null,
       "margin": null,
       "max_height": null,
       "max_width": null,
       "min_height": null,
       "min_width": null,
       "object_fit": null,
       "object_position": null,
       "order": null,
       "overflow": null,
       "padding": null,
       "right": null,
       "top": null,
       "visibility": null,
       "width": null
      }
     },
     "be3dedab22b74388b535c05e2fae33cc": {
      "model_module": "@jupyter-widgets/base",
      "model_module_version": "2.0.0",
      "model_name": "LayoutModel",
      "state": {
       "_model_module": "@jupyter-widgets/base",
       "_model_module_version": "2.0.0",
       "_model_name": "LayoutModel",
       "_view_count": null,
       "_view_module": "@jupyter-widgets/base",
       "_view_module_version": "2.0.0",
       "_view_name": "LayoutView",
       "align_content": null,
       "align_items": null,
       "align_self": null,
       "border_bottom": null,
       "border_left": null,
       "border_right": null,
       "border_top": null,
       "bottom": null,
       "display": null,
       "flex": null,
       "flex_flow": null,
       "grid_area": null,
       "grid_auto_columns": null,
       "grid_auto_flow": null,
       "grid_auto_rows": null,
       "grid_column": null,
       "grid_gap": null,
       "grid_row": null,
       "grid_template_areas": null,
       "grid_template_columns": null,
       "grid_template_rows": null,
       "height": null,
       "justify_content": null,
       "justify_items": null,
       "left": null,
       "margin": null,
       "max_height": null,
       "max_width": null,
       "min_height": null,
       "min_width": null,
       "object_fit": null,
       "object_position": null,
       "order": null,
       "overflow": null,
       "padding": null,
       "right": null,
       "top": null,
       "visibility": null,
       "width": null
      }
     },
     "c41dd9b132414799ba4b6cb25ceb4551": {
      "model_module": "@jupyter-widgets/controls",
      "model_module_version": "2.0.0",
      "model_name": "ProgressStyleModel",
      "state": {
       "_model_module": "@jupyter-widgets/controls",
       "_model_module_version": "2.0.0",
       "_model_name": "ProgressStyleModel",
       "_view_count": null,
       "_view_module": "@jupyter-widgets/base",
       "_view_module_version": "2.0.0",
       "_view_name": "StyleView",
       "bar_color": null,
       "description_width": ""
      }
     },
     "caa2b17d5e704bb695c087684e41f2e8": {
      "model_module": "@jupyter-widgets/base",
      "model_module_version": "2.0.0",
      "model_name": "LayoutModel",
      "state": {
       "_model_module": "@jupyter-widgets/base",
       "_model_module_version": "2.0.0",
       "_model_name": "LayoutModel",
       "_view_count": null,
       "_view_module": "@jupyter-widgets/base",
       "_view_module_version": "2.0.0",
       "_view_name": "LayoutView",
       "align_content": null,
       "align_items": null,
       "align_self": null,
       "border_bottom": null,
       "border_left": null,
       "border_right": null,
       "border_top": null,
       "bottom": null,
       "display": null,
       "flex": null,
       "flex_flow": null,
       "grid_area": null,
       "grid_auto_columns": null,
       "grid_auto_flow": null,
       "grid_auto_rows": null,
       "grid_column": null,
       "grid_gap": null,
       "grid_row": null,
       "grid_template_areas": null,
       "grid_template_columns": null,
       "grid_template_rows": null,
       "height": null,
       "justify_content": null,
       "justify_items": null,
       "left": null,
       "margin": null,
       "max_height": null,
       "max_width": null,
       "min_height": null,
       "min_width": null,
       "object_fit": null,
       "object_position": null,
       "order": null,
       "overflow": null,
       "padding": null,
       "right": null,
       "top": null,
       "visibility": null,
       "width": null
      }
     },
     "d365594a90294c71b889a80bef0e918d": {
      "model_module": "@jupyter-widgets/controls",
      "model_module_version": "2.0.0",
      "model_name": "HTMLStyleModel",
      "state": {
       "_model_module": "@jupyter-widgets/controls",
       "_model_module_version": "2.0.0",
       "_model_name": "HTMLStyleModel",
       "_view_count": null,
       "_view_module": "@jupyter-widgets/base",
       "_view_module_version": "2.0.0",
       "_view_name": "StyleView",
       "background": null,
       "description_width": "",
       "font_size": null,
       "text_color": null
      }
     },
     "e1e1d22418e643e7afdad6f912ce3257": {
      "model_module": "@jupyter-widgets/controls",
      "model_module_version": "2.0.0",
      "model_name": "HTMLModel",
      "state": {
       "_dom_classes": [],
       "_model_module": "@jupyter-widgets/controls",
       "_model_module_version": "2.0.0",
       "_model_name": "HTMLModel",
       "_view_count": null,
       "_view_module": "@jupyter-widgets/controls",
       "_view_module_version": "2.0.0",
       "_view_name": "HTMLView",
       "description": "",
       "description_allow_html": false,
       "layout": "IPY_MODEL_70fe44a29afc4922a66a722a605ed50f",
       "placeholder": "​",
       "style": "IPY_MODEL_7666d047195c4f3e99828cbdceb7c826",
       "tabbable": null,
       "tooltip": null,
       "value": " 232k/232k [00:00&lt;00:00, 4.57MB/s]"
      }
     },
     "e21524f6142e490996ea49142fc4ec34": {
      "model_module": "@jupyter-widgets/base",
      "model_module_version": "2.0.0",
      "model_name": "LayoutModel",
      "state": {
       "_model_module": "@jupyter-widgets/base",
       "_model_module_version": "2.0.0",
       "_model_name": "LayoutModel",
       "_view_count": null,
       "_view_module": "@jupyter-widgets/base",
       "_view_module_version": "2.0.0",
       "_view_name": "LayoutView",
       "align_content": null,
       "align_items": null,
       "align_self": null,
       "border_bottom": null,
       "border_left": null,
       "border_right": null,
       "border_top": null,
       "bottom": null,
       "display": null,
       "flex": null,
       "flex_flow": null,
       "grid_area": null,
       "grid_auto_columns": null,
       "grid_auto_flow": null,
       "grid_auto_rows": null,
       "grid_column": null,
       "grid_gap": null,
       "grid_row": null,
       "grid_template_areas": null,
       "grid_template_columns": null,
       "grid_template_rows": null,
       "height": null,
       "justify_content": null,
       "justify_items": null,
       "left": null,
       "margin": null,
       "max_height": null,
       "max_width": null,
       "min_height": null,
       "min_width": null,
       "object_fit": null,
       "object_position": null,
       "order": null,
       "overflow": null,
       "padding": null,
       "right": null,
       "top": null,
       "visibility": null,
       "width": null
      }
     },
     "e6a5741c82be4a97bbd8bad79ceb1482": {
      "model_module": "@jupyter-widgets/controls",
      "model_module_version": "2.0.0",
      "model_name": "HTMLModel",
      "state": {
       "_dom_classes": [],
       "_model_module": "@jupyter-widgets/controls",
       "_model_module_version": "2.0.0",
       "_model_name": "HTMLModel",
       "_view_count": null,
       "_view_module": "@jupyter-widgets/controls",
       "_view_module_version": "2.0.0",
       "_view_name": "HTMLView",
       "description": "",
       "description_allow_html": false,
       "layout": "IPY_MODEL_b0581de373194df68e1e5582cfd18797",
       "placeholder": "​",
       "style": "IPY_MODEL_700b2e04837946a79a8dde3cd2eeebc4",
       "tabbable": null,
       "tooltip": null,
       "value": " 466k/466k [00:00&lt;00:00, 18.5MB/s]"
      }
     },
     "f04ab72776044192a249af1fb1e7ef89": {
      "model_module": "@jupyter-widgets/base",
      "model_module_version": "2.0.0",
      "model_name": "LayoutModel",
      "state": {
       "_model_module": "@jupyter-widgets/base",
       "_model_module_version": "2.0.0",
       "_model_name": "LayoutModel",
       "_view_count": null,
       "_view_module": "@jupyter-widgets/base",
       "_view_module_version": "2.0.0",
       "_view_name": "LayoutView",
       "align_content": null,
       "align_items": null,
       "align_self": null,
       "border_bottom": null,
       "border_left": null,
       "border_right": null,
       "border_top": null,
       "bottom": null,
       "display": null,
       "flex": null,
       "flex_flow": null,
       "grid_area": null,
       "grid_auto_columns": null,
       "grid_auto_flow": null,
       "grid_auto_rows": null,
       "grid_column": null,
       "grid_gap": null,
       "grid_row": null,
       "grid_template_areas": null,
       "grid_template_columns": null,
       "grid_template_rows": null,
       "height": null,
       "justify_content": null,
       "justify_items": null,
       "left": null,
       "margin": null,
       "max_height": null,
       "max_width": null,
       "min_height": null,
       "min_width": null,
       "object_fit": null,
       "object_position": null,
       "order": null,
       "overflow": null,
       "padding": null,
       "right": null,
       "top": null,
       "visibility": null,
       "width": null
      }
     },
     "f312eba85402417ba9d3031a449dafba": {
      "model_module": "@jupyter-widgets/controls",
      "model_module_version": "2.0.0",
      "model_name": "HTMLStyleModel",
      "state": {
       "_model_module": "@jupyter-widgets/controls",
       "_model_module_version": "2.0.0",
       "_model_name": "HTMLStyleModel",
       "_view_count": null,
       "_view_module": "@jupyter-widgets/base",
       "_view_module_version": "2.0.0",
       "_view_name": "StyleView",
       "background": null,
       "description_width": "",
       "font_size": null,
       "text_color": null
      }
     },
     "f7a23340c24943249bb5d9b6a38a2bc3": {
      "model_module": "@jupyter-widgets/base",
      "model_module_version": "2.0.0",
      "model_name": "LayoutModel",
      "state": {
       "_model_module": "@jupyter-widgets/base",
       "_model_module_version": "2.0.0",
       "_model_name": "LayoutModel",
       "_view_count": null,
       "_view_module": "@jupyter-widgets/base",
       "_view_module_version": "2.0.0",
       "_view_name": "LayoutView",
       "align_content": null,
       "align_items": null,
       "align_self": null,
       "border_bottom": null,
       "border_left": null,
       "border_right": null,
       "border_top": null,
       "bottom": null,
       "display": null,
       "flex": null,
       "flex_flow": null,
       "grid_area": null,
       "grid_auto_columns": null,
       "grid_auto_flow": null,
       "grid_auto_rows": null,
       "grid_column": null,
       "grid_gap": null,
       "grid_row": null,
       "grid_template_areas": null,
       "grid_template_columns": null,
       "grid_template_rows": null,
       "height": null,
       "justify_content": null,
       "justify_items": null,
       "left": null,
       "margin": null,
       "max_height": null,
       "max_width": null,
       "min_height": null,
       "min_width": null,
       "object_fit": null,
       "object_position": null,
       "order": null,
       "overflow": null,
       "padding": null,
       "right": null,
       "top": null,
       "visibility": null,
       "width": null
      }
     },
     "fe187cabedf344449fd15b0608bd2f5e": {
      "model_module": "@jupyter-widgets/base",
      "model_module_version": "2.0.0",
      "model_name": "LayoutModel",
      "state": {
       "_model_module": "@jupyter-widgets/base",
       "_model_module_version": "2.0.0",
       "_model_name": "LayoutModel",
       "_view_count": null,
       "_view_module": "@jupyter-widgets/base",
       "_view_module_version": "2.0.0",
       "_view_name": "LayoutView",
       "align_content": null,
       "align_items": null,
       "align_self": null,
       "border_bottom": null,
       "border_left": null,
       "border_right": null,
       "border_top": null,
       "bottom": null,
       "display": null,
       "flex": null,
       "flex_flow": null,
       "grid_area": null,
       "grid_auto_columns": null,
       "grid_auto_flow": null,
       "grid_auto_rows": null,
       "grid_column": null,
       "grid_gap": null,
       "grid_row": null,
       "grid_template_areas": null,
       "grid_template_columns": null,
       "grid_template_rows": null,
       "height": null,
       "justify_content": null,
       "justify_items": null,
       "left": null,
       "margin": null,
       "max_height": null,
       "max_width": null,
       "min_height": null,
       "min_width": null,
       "object_fit": null,
       "object_position": null,
       "order": null,
       "overflow": null,
       "padding": null,
       "right": null,
       "top": null,
       "visibility": null,
       "width": null
      }
     },
     "fee02d203b7345a5a244939cb41fa77b": {
      "model_module": "@jupyter-widgets/controls",
      "model_module_version": "2.0.0",
      "model_name": "HTMLStyleModel",
      "state": {
       "_model_module": "@jupyter-widgets/controls",
       "_model_module_version": "2.0.0",
       "_model_name": "HTMLStyleModel",
       "_view_count": null,
       "_view_module": "@jupyter-widgets/base",
       "_view_module_version": "2.0.0",
       "_view_name": "StyleView",
       "background": null,
       "description_width": "",
       "font_size": null,
       "text_color": null
      }
     },
     "fef4618ab51a47b5b59d6320a6f9aaf3": {
      "model_module": "@jupyter-widgets/controls",
      "model_module_version": "2.0.0",
      "model_name": "FloatProgressModel",
      "state": {
       "_dom_classes": [],
       "_model_module": "@jupyter-widgets/controls",
       "_model_module_version": "2.0.0",
       "_model_name": "FloatProgressModel",
       "_view_count": null,
       "_view_module": "@jupyter-widgets/controls",
       "_view_module_version": "2.0.0",
       "_view_name": "ProgressView",
       "bar_style": "success",
       "description": "",
       "description_allow_html": false,
       "layout": "IPY_MODEL_7ea4929d45d34345b31cb353a4c2da98",
       "max": 48,
       "min": 0,
       "orientation": "horizontal",
       "style": "IPY_MODEL_486b723001f349d58791d4e47ab390f3",
       "tabbable": null,
       "tooltip": null,
       "value": 48
      }
     }
    },
    "version_major": 2,
    "version_minor": 0
   }
  }
 },
 "nbformat": 4,
 "nbformat_minor": 5
}
